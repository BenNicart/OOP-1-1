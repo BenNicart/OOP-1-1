{
  "nbformat": 4,
  "nbformat_minor": 0,
  "metadata": {
    "colab": {
      "name": "Midterms Exam Program1.ipynb",
      "provenance": [],
      "authorship_tag": "ABX9TyPAj0ahWcuLChb6pYvYMAYH",
      "include_colab_link": true
    },
    "kernelspec": {
      "name": "python3",
      "display_name": "Python 3"
    },
    "language_info": {
      "name": "python"
    }
  },
  "cells": [
    {
      "cell_type": "markdown",
      "metadata": {
        "id": "view-in-github",
        "colab_type": "text"
      },
      "source": [
        "<a href=\"https://colab.research.google.com/github/BenNicart/OOP-1-1/blob/main/Midterms_Exam_Program1.ipynb\" target=\"_parent\"><img src=\"https://colab.research.google.com/assets/colab-badge.svg\" alt=\"Open In Colab\"/></a>"
      ]
    },
    {
      "cell_type": "code",
      "execution_count": 3,
      "metadata": {
        "colab": {
          "base_uri": "https://localhost:8080/"
        },
        "id": "DgjoZK_qIrW1",
        "outputId": "aa1e2e48-d15d-4ef6-8fa8-4996b08caca8"
      },
      "outputs": [
        {
          "output_type": "stream",
          "name": "stdout",
          "text": [
            "Enter the temperature in Celsius: 29\n",
            "302.15 Kelvin\n",
            "84.2 Fahrenheit\n",
            "Enter the temperature in Farenheit: 12\n",
            "-11.11111111111111 Celsius\n",
            "Enter the temperature in Kelvin: 32\n",
            "-241.14999999999998 Celsius\n"
          ]
        }
      ],
      "source": [
        "def main():\n",
        " class TemperatureConversion:\n",
        "  def __init__(self, temp=1):\n",
        "   self._temp = temp\n",
        " class CelsiusToFahrenheit(TemperatureConversion):\n",
        "  def conversion(self):\n",
        "   return (self._temp * 9) / 5 + 32\n",
        " class CelsiusToKelvin(TemperatureConversion):\n",
        "  def conversion(self):\n",
        "   return self._temp + 273.15\n",
        " class FarenheitToCelsius(TemperatureConversion):\n",
        "  def conversion(self):\n",
        "   return (self._temp - 32) * (5/9) \n",
        " class KelvinToCelsius(TemperatureConversion):\n",
        "  def conversion(self):\n",
        "   return self._temp - 273.15\n",
        "\n",
        "\n",
        " tempInCelsius = float(input(\"Enter the temperature in Celsius: \"))\n",
        " convert = CelsiusToKelvin(tempInCelsius)\n",
        " print(str(convert.conversion()) + \" Kelvin\")\n",
        " convert = CelsiusToFahrenheit(tempInCelsius)\n",
        " print(str(convert.conversion()) + \" Fahrenheit\")\n",
        " tempInFarenheit = float(input(\"Enter the temperature in Farenheit: \"))\n",
        " convert = FarenheitToCelsius(tempInFarenheit)\n",
        " print(str(convert.conversion()) + \" Celsius\")\n",
        " tempInKelvin = float(input(\"Enter the temperature in Kelvin: \"))\n",
        " convert = KelvinToCelsius(tempInKelvin)\n",
        " print(str(convert.conversion()) + \" Celsius\")\n",
        "\n",
        "\n",
        "main()\n"
      ]
    }
  ]
}