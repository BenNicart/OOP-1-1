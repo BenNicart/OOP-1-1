{
  "nbformat": 4,
  "nbformat_minor": 0,
  "metadata": {
    "colab": {
      "name": "OOP Concepts 2.ipynb",
      "provenance": [],
      "authorship_tag": "ABX9TyN47JlmF8Xg3UpJ0s0cvRON",
      "include_colab_link": true
    },
    "kernelspec": {
      "name": "python3",
      "display_name": "Python 3"
    },
    "language_info": {
      "name": "python"
    }
  },
  "cells": [
    {
      "cell_type": "markdown",
      "metadata": {
        "id": "view-in-github",
        "colab_type": "text"
      },
      "source": [
        "<a href=\"https://colab.research.google.com/github/BenNicart/OOP-1-1/blob/main/OOP_Concepts_2.ipynb\" target=\"_parent\"><img src=\"https://colab.research.google.com/assets/colab-badge.svg\" alt=\"Open In Colab\"/></a>"
      ]
    },
    {
      "cell_type": "markdown",
      "source": [
        "Classes with Multiple Objects"
      ],
      "metadata": {
        "id": "196GBlRUMVq5"
      }
    },
    {
      "cell_type": "code",
      "source": [
        "class Birds:\n",
        "  def __init__(self,birds_name):\n",
        "    self.birds_name = birds_name\n",
        "  def flying_birds(self):\n",
        "    print(f\"{self.birds_name} flies above the sky\")\n",
        "  def non_flying_birds(self):\n",
        "    print(f\"{self.birds_name} is the national birds of Australia\")\n",
        "\n",
        "vulture = Birds(\"Griffon Vulture\")\n",
        "crane = Birds(\"Common Crane\")\n",
        "emu = Birds(\"Emu\")\n",
        "\n",
        "vulture.flying_birds()\n",
        "crane.flying_birds()\n",
        "emu.non_flying_birds()"
      ],
      "metadata": {
        "colab": {
          "base_uri": "https://localhost:8080/"
        },
        "id": "2b3G4jSOMbEz",
        "outputId": "92a7ddde-4376-4c7e-94cc-0f6b4c015886"
      },
      "execution_count": null,
      "outputs": [
        {
          "output_type": "stream",
          "name": "stdout",
          "text": [
            "Griffon Vulture flies above the sky\n",
            "Common Crane flies above the sky\n",
            "Emu is the national birds of Australia\n"
          ]
        }
      ]
    },
    {
      "cell_type": "markdown",
      "source": [
        "Encapsulation (mangling with double underscore)"
      ],
      "metadata": {
        "id": "2xOacly4PlcK"
      }
    },
    {
      "cell_type": "code",
      "source": [
        "class foo:\n",
        "  def __init__(self,a,b):\n",
        "    self.__a = a \n",
        "    self.__b = b\n",
        "\n",
        "  def add(self):\n",
        "    return self.__a+self.__b\n",
        "\n",
        "object_foo = foo(3,4)\n",
        "object_foo.add()\n",
        "\n",
        "object_foo.__a = 6\n",
        "object_foo.__b = 7\n",
        "object_foo.add()"
      ],
      "metadata": {
        "colab": {
          "base_uri": "https://localhost:8080/"
        },
        "id": "CQdXwr-lPiic",
        "outputId": "58022bfd-cc79-4304-aa03-88f923e9b4b4"
      },
      "execution_count": null,
      "outputs": [
        {
          "output_type": "execute_result",
          "data": {
            "text/plain": [
              "7"
            ]
          },
          "metadata": {},
          "execution_count": 6
        }
      ]
    },
    {
      "cell_type": "markdown",
      "source": [
        "Class Counter"
      ],
      "metadata": {
        "id": "Myrl7yznSK-x"
      }
    },
    {
      "cell_type": "code",
      "source": [
        "class Counter:\n",
        "    def __init__(self):\n",
        "        self.__current = 0\n",
        "    def increment(self):\n",
        "        self.__current += 1\n",
        "    def value(self):\n",
        "        return self.__current\n",
        "    def reset(self):\n",
        "        self.__current = 0\n",
        "\n",
        "number = Counter()\n",
        "number.__current = 1\n",
        "\n",
        "number.increment()\n",
        "number.increment()\n",
        "number.increment()\n",
        "\n",
        "\n",
        "print(number.value())\n"
      ],
      "metadata": {
        "colab": {
          "base_uri": "https://localhost:8080/"
        },
        "id": "pL6aVXFxSE5k",
        "outputId": "2a21b550-56b6-4fbd-98f8-4c648837207c"
      },
      "execution_count": null,
      "outputs": [
        {
          "output_type": "stream",
          "name": "stdout",
          "text": [
            "3\n"
          ]
        }
      ]
    },
    {
      "cell_type": "markdown",
      "source": [
        "Inheretance"
      ],
      "metadata": {
        "id": "zXJ5-LnTU8oU"
      }
    },
    {
      "cell_type": "code",
      "source": [
        "class Person:\n",
        "  def __init__(self,firstname,surname):\n",
        "    self.firstname = firstname\n",
        "    self.surname = surname\n",
        "\n",
        "  def fullname(self):\n",
        "    print(self.firstname,self.surname)\n",
        "  \n",
        "person = Person(\"Ben\",\"Nicart\")\n",
        "person.fullname()\n",
        "\n",
        "class Teacher(Person):\n",
        "  pass\n",
        "\n",
        "person2 = Teacher(\"Mam\",\"Maria\")\n",
        "person2.fullname()\n",
        "\n",
        "class Student(Person):\n",
        "  pass\n",
        "\n",
        "person3 = Student(\"MC\",\"Blasco\")\n",
        "person3.fullname()\n"
      ],
      "metadata": {
        "colab": {
          "base_uri": "https://localhost:8080/"
        },
        "id": "YhzPOtwoU-wX",
        "outputId": "53d68764-d08d-4cf4-e338-1ee67be2df9b"
      },
      "execution_count": null,
      "outputs": [
        {
          "output_type": "stream",
          "name": "stdout",
          "text": [
            "Ben Nicart\n",
            "Mam Maria\n",
            "MC Blasco\n"
          ]
        }
      ]
    },
    {
      "cell_type": "markdown",
      "source": [
        "Polymorphism"
      ],
      "metadata": {
        "id": "2cCWgcnUXeMG"
      }
    },
    {
      "cell_type": "code",
      "source": [
        "class RegularPolygon:\n",
        "  def __init__(self,side):\n",
        "    self.side = side\n",
        "class Square(RegularPolygon):\n",
        "  def area(self):\n",
        "    return self.side * self.side\n",
        "class EquilateralTriangle(RegularPolygon):\n",
        "  def area(self):\n",
        "    return self.side * self.side * 0.433\n",
        "\n",
        "obj1 = Square(4)\n",
        "print(obj1.area())\n",
        "\n",
        "obj2 = EquilateralTriangle(3)\n",
        "print(obj2.area())"
      ],
      "metadata": {
        "colab": {
          "base_uri": "https://localhost:8080/"
        },
        "id": "4DZ7aqAQXf9A",
        "outputId": "0660dacb-4a2f-47c5-b695-82d51e45b541"
      },
      "execution_count": null,
      "outputs": [
        {
          "output_type": "stream",
          "name": "stdout",
          "text": [
            "16\n",
            "3.897\n"
          ]
        }
      ]
    },
    {
      "cell_type": "markdown",
      "source": [
        "Application #1 "
      ],
      "metadata": {
        "id": "GsoQFE6AY-je"
      }
    },
    {
      "cell_type": "markdown",
      "source": [
        "1. Create a Phyton program that displays the name of three students (Student 1, Student 2, and Student 3)and their term grades\n",
        "2. Create a class name Person and attributes - std1, std2, std3, pre, mid, fin\n",
        "3. Compute the average of each term grade using Grade() method\n",
        "4. Information about student's grades must be hidden from others."
      ],
      "metadata": {
        "id": "YFim0nC5ZHbg"
      }
    },
    {
      "cell_type": "code",
      "source": [
        "class Person:\n",
        "  def __init__(self,std,pre,mid,fin):\n",
        "    self.std = std\n",
        "    self.pre = pre\n",
        "    self.mid = mid\n",
        "    self.fin = fin\n",
        "  def Info(self):\n",
        "    print(\"Student\",self.std)\n",
        "    print(\"Prelims:\",self.pre)\n",
        "    print(\"Midterms:\",self.mid)\n",
        "    print(\"Finals:\",self.fin)\n",
        "\n",
        "student1 = Person(\"1: BEN PIOLO G. NICART\",92,93,94)\n",
        "student1.Info()\n",
        "\n",
        "\n",
        "class Person2(Person):\n",
        "  pass \n",
        "\n",
        "student2 = Person2(\"2: MARC CHRISTIAN BLASCO\",90,91,93)\n",
        "student2.Info()\n",
        "\n",
        "class Person3(Person):\n",
        "  pass\n",
        "\n",
        "student3 = Person3(\"3: JOSE MARI D. YANCE\",84,89,88)\n",
        "student3.Info()\n",
        "\n",
        "class Average:\n",
        "  def __init__(self,grd1,grd2,grd3):\n",
        "    self.grd1 = grd1\n",
        "    self.grd2 = grd2\n",
        "    self.grd3 = grd3\n",
        "  def Grade(self):\n",
        "    print(\"Prelims Average: \",(self.grd1 + self.grd2 + self.grd3)/3)\n",
        "  def Grade2(self):\n",
        "    print(\"Midterms Average: \",(self.grd1 + self.grd2 + self.grd3)/3)\n",
        "  def Grade3(self):\n",
        "    print(\"Finals Average: \",(self.grd1 + self.grd2 + self.grd3)/3)\n",
        "  \n",
        "\n",
        "avePRE = Average(92,90,84)\n",
        "avePRE.Grade()\n",
        "\n",
        "aveMID = Average(93,91,89)\n",
        "aveMID.Grade2()\n",
        "  \n",
        "aveFIN = Average(94,93,88)\n",
        "aveFIN.Grade3()\n"
      ],
      "metadata": {
        "id": "CS4B5zuFCzVS",
        "outputId": "8b6f9d2c-b691-42d8-fa5f-39b10d5bf99a",
        "colab": {
          "base_uri": "https://localhost:8080/"
        }
      },
      "execution_count": 59,
      "outputs": [
        {
          "output_type": "stream",
          "name": "stdout",
          "text": [
            "Student 1: BEN PIOLO G. NICART\n",
            "Prelims: 92\n",
            "Midterms: 93\n",
            "Finals: 94\n",
            "Student 2: MARC CHRISTIAN BLASCO\n",
            "Prelims: 90\n",
            "Midterms: 91\n",
            "Finals: 93\n",
            "Student 3: JOSE MARI D. YANCE\n",
            "Prelims: 84\n",
            "Midterms: 89\n",
            "Finals: 88\n",
            "Prelims Average:  88.66666666666667\n",
            "Midterms Average:  91.0\n",
            "Finals Average:  91.66666666666667\n"
          ]
        }
      ]
    }
  ]
}