{
  "nbformat": 4,
  "nbformat_minor": 0,
  "metadata": {
    "colab": {
      "name": "Classes and Object.ipynb",
      "provenance": [],
      "authorship_tag": "ABX9TyPnglcWP4H+qCHrF9DRwge6",
      "include_colab_link": true
    },
    "kernelspec": {
      "name": "python3",
      "display_name": "Python 3"
    },
    "language_info": {
      "name": "python"
    }
  },
  "cells": [
    {
      "cell_type": "markdown",
      "metadata": {
        "id": "view-in-github",
        "colab_type": "text"
      },
      "source": [
        "<a href=\"https://colab.research.google.com/github/BenNicart/OOP-1-1/blob/main/Classes_and_Object.ipynb\" target=\"_parent\"><img src=\"https://colab.research.google.com/assets/colab-badge.svg\" alt=\"Open In Colab\"/></a>"
      ]
    },
    {
      "cell_type": "markdown",
      "source": [
        "Application 2 - Write a python program that displays the full name of student, student number, age, course, and school. Create a class name OOP_1_1 and create info() method to display the information of a student with fullname, student_no, age, course, school as attributes."
      ],
      "metadata": {
        "id": "60eLT99p1kyi"
      }
    },
    {
      "cell_type": "code",
      "execution_count": 4,
      "metadata": {
        "colab": {
          "base_uri": "https://localhost:8080/"
        },
        "id": "_x3EXKnG1ic1",
        "outputId": "6a4918ac-961e-4e12-b99a-aa2dd5f541f7"
      },
      "outputs": [
        {
          "output_type": "stream",
          "name": "stdout",
          "text": [
            "My Name is Ben Piolo G. Nicart\n",
            "My Student number is 202101441\n",
            "My Age is 19\n",
            "My Course is BSCpE\n",
            "My School is CVSU\n"
          ]
        }
      ],
      "source": [
        "class OOP_1_1:\n",
        "  def __init__(self,fullname,student_no,age,course,school):\n",
        "    self.fullname = fullname\n",
        "    self.student_no = student_no\n",
        "    self.age = age\n",
        "    self.course = course\n",
        "    self.school = school\n",
        "  def Info(self):\n",
        "    #print(self.fullname,self.student_no,self.age,self.course,self.school)\n",
        "    print(\"My Name is\", self.fullname)\n",
        "    print(\"My Student number is\", self.student_no)\n",
        "    print(\"My Age is\", self.age)\n",
        "    print(\"My Course is\", self.course)\n",
        "    print(\"My School is\", self.school)\n",
        "\n",
        "student = OOP_1_1(\"Ben Piolo G. Nicart\",202101441,19,\"BSCpE\",\"CVSU\")\n",
        "student.Info()"
      ]
    }
  ]
}