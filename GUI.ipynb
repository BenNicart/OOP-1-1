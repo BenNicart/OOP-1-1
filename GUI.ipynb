{
  "nbformat": 4,
  "nbformat_minor": 0,
  "metadata": {
    "colab": {
      "name": "GUI.ipynb",
      "provenance": [],
      "authorship_tag": "ABX9TyNbzVjeeSQvweqb5Wxj03Xp",
      "include_colab_link": true
    },
    "kernelspec": {
      "name": "python3",
      "display_name": "Python 3"
    },
    "language_info": {
      "name": "python"
    }
  },
  "cells": [
    {
      "cell_type": "markdown",
      "metadata": {
        "id": "view-in-github",
        "colab_type": "text"
      },
      "source": [
        "<a href=\"https://colab.research.google.com/github/BenNicart/OOP-1-1/blob/main/GUI.ipynb\" target=\"_parent\"><img src=\"https://colab.research.google.com/assets/colab-badge.svg\" alt=\"Open In Colab\"/></a>"
      ]
    },
    {
      "cell_type": "code",
      "execution_count": 1,
      "metadata": {
        "colab": {
          "base_uri": "https://localhost:8080/"
        },
        "id": "bRurL70lZApx",
        "outputId": "22769c29-f72c-4673-da30-873d0619c994"
      },
      "outputs": [
        {
          "output_type": "stream",
          "name": "stdout",
          "text": [
            "My Prelim is 92\n",
            "My Midterm is 91\n",
            "My Final is 99\n",
            "My Semestral Grade is 94 2\n",
            "My Birthdate is 2002-08-06\n"
          ]
        }
      ],
      "source": [
        "#@title Student's Grade in OOP\n",
        "Student_Name = \"Ben Piolo G. Nicart\"#@param {type:\"string\"}\n",
        "Prelim =  92#@param {type:\"number\"}\n",
        "Midterm =  91#@param {type:\"number\"}\n",
        "Final =  99#@param {type:\"number\"}\n",
        "semestral_grade = round((Prelim + Midterm + Final)/3)\n",
        "\n",
        "print(\"My Prelim is \" +  str(Prelim))\n",
        "print(\"My Midterm is \" + str(Midterm))\n",
        "print(\"My Final is \" +   str(Final))\n",
        "print(\"My Semestral Grade is \" + str(semestral_grade),2)\n",
        "\n",
        "\n",
        "Gender = \"Male\"#@param[\"Male\",\"Female\"]\n",
        "BirthDate = '2002-08-06'#@param{type:\"date\"}\n",
        "\n",
        "print(\"My Birthdate is \" +BirthDate)\n"
      ]
    },
    {
      "cell_type": "markdown",
      "source": [
        "Tkinker module - pycharm"
      ],
      "metadata": {
        "id": "__amKVp8ZJii"
      }
    }
  ]
}